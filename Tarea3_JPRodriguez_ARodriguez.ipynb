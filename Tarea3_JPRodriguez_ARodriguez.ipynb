{
 "cells": [
  {
   "cell_type": "markdown",
   "id": "05fd5cf8",
   "metadata": {},
   "source": [
    "<img style=\"float: left; margin: 30px 15px 15px 15px;\" src=\"https://pngimage.net/wp-content/uploads/2018/06/logo-iteso-png-5.png\" width=\"300\" height=\"500\" /> \n",
    "    \n",
    "    \n",
    "### <font color='navy'> Simulación de procesos financieros. \n",
    "\n",
    "**Nombres:** Juan Pablo Rodríguez Alonso, Ana Esmeralda Rodríguez Rodríguez\n",
    "\n",
    "**Fecha:** 09 de junio del 2021.\n",
    "\n",
    "**Expediente** : 715180, 709288.\n",
    "\n",
    "**Profesor:** Oscar David Jaramillo Zuluaga.\n",
    "    \n",
    "**Link Github**: [Link con el enlace del repositorio del creador del proyecto](https://github.com/JuanPrdz/Tarea3_JPRodriguez_ARodriguez)\n",
    "\n",
    "# Tarea 3: Clase 6"
   ]
  },
  {
   "cell_type": "markdown",
   "id": "2305af4e",
   "metadata": {},
   "source": [
    "> ## Tarea 3: (Usando notebook de jupyter)** \n",
    "\n",
    "> Usando compresión de listas o funciones map(sino recuerda como funciona observar el siguiente enlace https://www.pythonforbeginners.com/lists/list-comprehensions-in-python/), resolver los siguientes ejercicios:\n"
   ]
  },
  {
   "cell_type": "code",
   "execution_count": 18,
   "id": "96887dbb",
   "metadata": {},
   "outputs": [],
   "source": [
    "import numpy as np"
   ]
  },
  {
   "cell_type": "markdown",
   "id": "37547a9c",
   "metadata": {},
   "source": [
    "### Ejercicio 1\n",
    ">1. Resolver la siguiente ecuación recursiva usando funciones como se vió en clase\n",
    "$$ D_{n}=(n-1) D_{n-1}+(n-1) D_{n-2} \\quad n\\ge 3$$\n",
    "con $D_1=0$ y $D_2 = 1$"
   ]
  },
  {
   "cell_type": "markdown",
   "id": "45cfaab3",
   "metadata": {},
   "source": [
    "#### Ejercicio 1: Estudiante 1 Juan Pablo Rodríguez Alonso"
   ]
  },
  {
   "cell_type": "code",
   "execution_count": 28,
   "id": "d10dc4e6",
   "metadata": {},
   "outputs": [],
   "source": [
    "# Código de solución estudiante 1 Juan Pablo Rodríguez\n"
   ]
  },
  {
   "cell_type": "markdown",
   "id": "f24b9e67",
   "metadata": {},
   "source": [
    "#### Ejercicio 1: Estudiante 2 Ana Esmeralda Rodríguez"
   ]
  },
  {
   "cell_type": "code",
   "execution_count": 6,
   "id": "d4bad23c",
   "metadata": {},
   "outputs": [],
   "source": [
    "# Código de solución estudiante 2 Ana Esmeralda Rodríguez"
   ]
  },
  {
   "cell_type": "markdown",
   "id": "003f03f8",
   "metadata": {},
   "source": [
    "### Ejercicio 2\n",
    ">2. Count the number of spaces in the following string `variable =  relaciónn  requiere,  para obtener  el  valor  de un  cierto  término,  el conocimiento de los dos anteriores`."
   ]
  },
  {
   "cell_type": "markdown",
   "id": "5377eeed",
   "metadata": {},
   "source": [
    "#### Ejercicio 2: Estudiante 1 Juan Pablo Rodríguez Alonso"
   ]
  },
  {
   "cell_type": "code",
   "execution_count": 7,
   "id": "b6ad69a4",
   "metadata": {},
   "outputs": [],
   "source": [
    "# Código de solución estudiante 1 Juan Pablo Rodríguez\n"
   ]
  },
  {
   "cell_type": "markdown",
   "id": "7656a95f",
   "metadata": {},
   "source": [
    "#### Ejercicio 2: Estudiante 2 Ana Esmeralda Rodríguez"
   ]
  },
  {
   "cell_type": "code",
   "execution_count": 8,
   "id": "a4882ff2",
   "metadata": {},
   "outputs": [],
   "source": [
    "# Código de solución estudiante 2 Ana Esmeralda Rodríguez"
   ]
  },
  {
   "cell_type": "markdown",
   "id": "7184b9f0",
   "metadata": {},
   "source": [
    "### Ejercicio 3\n",
    ">3. Remove all of the vowels in a string [make a list of the non-vowels]."
   ]
  },
  {
   "cell_type": "markdown",
   "id": "8ff20f8a",
   "metadata": {},
   "source": [
    "#### Ejercicio 3: Estudiante 1 Juan Pablo Rodríguez Alonso"
   ]
  },
  {
   "cell_type": "code",
   "execution_count": 9,
   "id": "679c998a",
   "metadata": {},
   "outputs": [],
   "source": [
    "# Código de solución estudiante 1 Juan Pablo Rodríguez\n"
   ]
  },
  {
   "cell_type": "markdown",
   "id": "4d628096",
   "metadata": {},
   "source": [
    "#### Ejercicio 3: Estudiante 2 Ana Esmeralda Rodríguez"
   ]
  },
  {
   "cell_type": "code",
   "execution_count": 10,
   "id": "5ed06f9b",
   "metadata": {},
   "outputs": [],
   "source": [
    "# Código de solución estudiante 2 Ana Esmeralda Rodríguez"
   ]
  },
  {
   "cell_type": "markdown",
   "id": "4927124d",
   "metadata": {},
   "source": [
    "### Ejercicio 4\n",
    ">4. Find all of the words in a string that are less than 4 letters."
   ]
  },
  {
   "cell_type": "markdown",
   "id": "cab0b061",
   "metadata": {},
   "source": [
    "#### Ejercicio 4: Estudiante 1 Juan Pablo Rodríguez Alonso"
   ]
  },
  {
   "cell_type": "code",
   "execution_count": 11,
   "id": "15481b41",
   "metadata": {},
   "outputs": [],
   "source": [
    "# Código de solución estudiante 1 Juan Pablo Rodríguez\n"
   ]
  },
  {
   "cell_type": "markdown",
   "id": "2b9ea45b",
   "metadata": {},
   "source": [
    "#### Ejercicio 4: Estudiante 2 Ana Esmeralda Rodríguez"
   ]
  },
  {
   "cell_type": "code",
   "execution_count": 14,
   "id": "e5b1fe2b",
   "metadata": {},
   "outputs": [],
   "source": [
    "# Código de solución estudiante 2 Ana Esmeralda Rodríguez"
   ]
  },
  {
   "cell_type": "markdown",
   "id": "b8367a30",
   "metadata": {},
   "source": [
    "### Ejercicio 5\n",
    ">5. Use a dictionary comprehension to count the length of each word in a sentence."
   ]
  },
  {
   "cell_type": "markdown",
   "id": "fd0d5682",
   "metadata": {},
   "source": [
    "#### Ejercicio 5: Estudiante 1 Juan Pablo Rodríguez Alonso"
   ]
  },
  {
   "cell_type": "code",
   "execution_count": 13,
   "id": "a0501720",
   "metadata": {},
   "outputs": [],
   "source": [
    "# Código de solución estudiante 1 Juan Pablo Rodríguez\n"
   ]
  },
  {
   "cell_type": "markdown",
   "id": "9f9ed7b2",
   "metadata": {},
   "source": [
    "#### Ejercicio 5: Estudiante 2 Ana Esmeralda Rodríguez"
   ]
  },
  {
   "cell_type": "code",
   "execution_count": 15,
   "id": "9e371228",
   "metadata": {},
   "outputs": [],
   "source": [
    "# Código de solución estudiante 2 Ana Esmeralda Rodríguez"
   ]
  },
  {
   "cell_type": "markdown",
   "id": "e85904d3",
   "metadata": {},
   "source": [
    "### Ejercicio 6\n",
    ">6. Use a nested list comprehension to find all of the numbers from 1-1000 that are divisible by any single digit besides 1 (2-9)."
   ]
  },
  {
   "cell_type": "markdown",
   "id": "b40b4426",
   "metadata": {},
   "source": [
    "#### Ejercicio 6: Estudiante 1 Juan Pablo Rodríguez Alonso"
   ]
  },
  {
   "cell_type": "code",
   "execution_count": 16,
   "id": "092b6cfb",
   "metadata": {},
   "outputs": [],
   "source": [
    "# Código de solución estudiante 1 Juan Pablo Rodríguez\n"
   ]
  },
  {
   "cell_type": "markdown",
   "id": "625c0260",
   "metadata": {},
   "source": [
    "#### Ejercicio 6: Estudiante 2 Ana Esmeralda Rodríguez"
   ]
  },
  {
   "cell_type": "code",
   "execution_count": 17,
   "id": "cc360975",
   "metadata": {},
   "outputs": [],
   "source": [
    "# Código de solución estudiante 2 Ana Esmeralda Rodríguez"
   ]
  }
 ],
 "metadata": {
  "kernelspec": {
   "display_name": "Python 3",
   "language": "python",
   "name": "python3"
  },
  "language_info": {
   "codemirror_mode": {
    "name": "ipython",
    "version": 3
   },
   "file_extension": ".py",
   "mimetype": "text/x-python",
   "name": "python",
   "nbconvert_exporter": "python",
   "pygments_lexer": "ipython3",
   "version": "3.8.8"
  }
 },
 "nbformat": 4,
 "nbformat_minor": 5
}
